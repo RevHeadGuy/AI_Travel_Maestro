{
  "nbformat": 4,
  "nbformat_minor": 0,
  "metadata": {
    "colab": {
      "provenance": []
    },
    "kernelspec": {
      "name": "python3",
      "display_name": "Python 3"
    },
    "language_info": {
      "name": "python"
    }
  },
  "cells": [
    {
      "cell_type": "code",
      "execution_count": 1,
      "metadata": {
        "colab": {
          "base_uri": "https://localhost:8080/"
        },
        "id": "xXCHhCAkK2Wh",
        "outputId": "dcc3dbc5-3586-4e43-c9b2-f8a7d6a69141"
      },
      "outputs": [
        {
          "output_type": "stream",
          "name": "stdout",
          "text": [
            "Requirement already satisfied: langchain in /usr/local/lib/python3.11/dist-packages (0.3.20)\n",
            "Requirement already satisfied: langchain_core in /usr/local/lib/python3.11/dist-packages (0.3.43)\n",
            "Collecting langchain_groq\n",
            "  Downloading langchain_groq-0.2.5-py3-none-any.whl.metadata (2.6 kB)\n",
            "Collecting langchain_community\n",
            "  Downloading langchain_community-0.3.19-py3-none-any.whl.metadata (2.4 kB)\n",
            "Collecting langgraph\n",
            "  Downloading langgraph-0.3.8-py3-none-any.whl.metadata (17 kB)\n",
            "Requirement already satisfied: langchain-text-splitters<1.0.0,>=0.3.6 in /usr/local/lib/python3.11/dist-packages (from langchain) (0.3.6)\n",
            "Requirement already satisfied: langsmith<0.4,>=0.1.17 in /usr/local/lib/python3.11/dist-packages (from langchain) (0.3.13)\n",
            "Requirement already satisfied: pydantic<3.0.0,>=2.7.4 in /usr/local/lib/python3.11/dist-packages (from langchain) (2.10.6)\n",
            "Requirement already satisfied: SQLAlchemy<3,>=1.4 in /usr/local/lib/python3.11/dist-packages (from langchain) (2.0.38)\n",
            "Requirement already satisfied: requests<3,>=2 in /usr/local/lib/python3.11/dist-packages (from langchain) (2.32.3)\n",
            "Requirement already satisfied: PyYAML>=5.3 in /usr/local/lib/python3.11/dist-packages (from langchain) (6.0.2)\n",
            "Requirement already satisfied: tenacity!=8.4.0,<10.0.0,>=8.1.0 in /usr/local/lib/python3.11/dist-packages (from langchain_core) (9.0.0)\n",
            "Requirement already satisfied: jsonpatch<2.0,>=1.33 in /usr/local/lib/python3.11/dist-packages (from langchain_core) (1.33)\n",
            "Requirement already satisfied: packaging<25,>=23.2 in /usr/local/lib/python3.11/dist-packages (from langchain_core) (24.2)\n",
            "Requirement already satisfied: typing-extensions>=4.7 in /usr/local/lib/python3.11/dist-packages (from langchain_core) (4.12.2)\n",
            "Collecting groq<1,>=0.4.1 (from langchain_groq)\n",
            "  Downloading groq-0.19.0-py3-none-any.whl.metadata (15 kB)\n",
            "Requirement already satisfied: aiohttp<4.0.0,>=3.8.3 in /usr/local/lib/python3.11/dist-packages (from langchain_community) (3.11.13)\n",
            "Collecting dataclasses-json<0.7,>=0.5.7 (from langchain_community)\n",
            "  Downloading dataclasses_json-0.6.7-py3-none-any.whl.metadata (25 kB)\n",
            "Collecting pydantic-settings<3.0.0,>=2.4.0 (from langchain_community)\n",
            "  Downloading pydantic_settings-2.8.1-py3-none-any.whl.metadata (3.5 kB)\n",
            "Collecting httpx-sse<1.0.0,>=0.4.0 (from langchain_community)\n",
            "  Downloading httpx_sse-0.4.0-py3-none-any.whl.metadata (9.0 kB)\n",
            "Requirement already satisfied: numpy<3,>=1.26.2 in /usr/local/lib/python3.11/dist-packages (from langchain_community) (1.26.4)\n",
            "Collecting langgraph-checkpoint<3.0.0,>=2.0.10 (from langgraph)\n",
            "  Downloading langgraph_checkpoint-2.0.19-py3-none-any.whl.metadata (4.6 kB)\n",
            "Collecting langgraph-prebuilt<0.2,>=0.1.1 (from langgraph)\n",
            "  Downloading langgraph_prebuilt-0.1.2-py3-none-any.whl.metadata (5.0 kB)\n",
            "Collecting langgraph-sdk<0.2.0,>=0.1.42 (from langgraph)\n",
            "  Downloading langgraph_sdk-0.1.56-py3-none-any.whl.metadata (1.8 kB)\n",
            "Requirement already satisfied: aiohappyeyeballs>=2.3.0 in /usr/local/lib/python3.11/dist-packages (from aiohttp<4.0.0,>=3.8.3->langchain_community) (2.5.0)\n",
            "Requirement already satisfied: aiosignal>=1.1.2 in /usr/local/lib/python3.11/dist-packages (from aiohttp<4.0.0,>=3.8.3->langchain_community) (1.3.2)\n",
            "Requirement already satisfied: attrs>=17.3.0 in /usr/local/lib/python3.11/dist-packages (from aiohttp<4.0.0,>=3.8.3->langchain_community) (25.1.0)\n",
            "Requirement already satisfied: frozenlist>=1.1.1 in /usr/local/lib/python3.11/dist-packages (from aiohttp<4.0.0,>=3.8.3->langchain_community) (1.5.0)\n",
            "Requirement already satisfied: multidict<7.0,>=4.5 in /usr/local/lib/python3.11/dist-packages (from aiohttp<4.0.0,>=3.8.3->langchain_community) (6.1.0)\n",
            "Requirement already satisfied: propcache>=0.2.0 in /usr/local/lib/python3.11/dist-packages (from aiohttp<4.0.0,>=3.8.3->langchain_community) (0.3.0)\n",
            "Requirement already satisfied: yarl<2.0,>=1.17.0 in /usr/local/lib/python3.11/dist-packages (from aiohttp<4.0.0,>=3.8.3->langchain_community) (1.18.3)\n",
            "Collecting marshmallow<4.0.0,>=3.18.0 (from dataclasses-json<0.7,>=0.5.7->langchain_community)\n",
            "  Downloading marshmallow-3.26.1-py3-none-any.whl.metadata (7.3 kB)\n",
            "Collecting typing-inspect<1,>=0.4.0 (from dataclasses-json<0.7,>=0.5.7->langchain_community)\n",
            "  Downloading typing_inspect-0.9.0-py3-none-any.whl.metadata (1.5 kB)\n",
            "Requirement already satisfied: anyio<5,>=3.5.0 in /usr/local/lib/python3.11/dist-packages (from groq<1,>=0.4.1->langchain_groq) (3.7.1)\n",
            "Requirement already satisfied: distro<2,>=1.7.0 in /usr/local/lib/python3.11/dist-packages (from groq<1,>=0.4.1->langchain_groq) (1.9.0)\n",
            "Requirement already satisfied: httpx<1,>=0.23.0 in /usr/local/lib/python3.11/dist-packages (from groq<1,>=0.4.1->langchain_groq) (0.28.1)\n",
            "Requirement already satisfied: sniffio in /usr/local/lib/python3.11/dist-packages (from groq<1,>=0.4.1->langchain_groq) (1.3.1)\n",
            "Requirement already satisfied: jsonpointer>=1.9 in /usr/local/lib/python3.11/dist-packages (from jsonpatch<2.0,>=1.33->langchain_core) (3.0.0)\n",
            "Requirement already satisfied: msgpack<2.0.0,>=1.1.0 in /usr/local/lib/python3.11/dist-packages (from langgraph-checkpoint<3.0.0,>=2.0.10->langgraph) (1.1.0)\n",
            "Requirement already satisfied: orjson>=3.10.1 in /usr/local/lib/python3.11/dist-packages (from langgraph-sdk<0.2.0,>=0.1.42->langgraph) (3.10.15)\n",
            "Requirement already satisfied: requests-toolbelt<2.0.0,>=1.0.0 in /usr/local/lib/python3.11/dist-packages (from langsmith<0.4,>=0.1.17->langchain) (1.0.0)\n",
            "Requirement already satisfied: zstandard<0.24.0,>=0.23.0 in /usr/local/lib/python3.11/dist-packages (from langsmith<0.4,>=0.1.17->langchain) (0.23.0)\n",
            "Requirement already satisfied: annotated-types>=0.6.0 in /usr/local/lib/python3.11/dist-packages (from pydantic<3.0.0,>=2.7.4->langchain) (0.7.0)\n",
            "Requirement already satisfied: pydantic-core==2.27.2 in /usr/local/lib/python3.11/dist-packages (from pydantic<3.0.0,>=2.7.4->langchain) (2.27.2)\n",
            "Collecting python-dotenv>=0.21.0 (from pydantic-settings<3.0.0,>=2.4.0->langchain_community)\n",
            "  Downloading python_dotenv-1.0.1-py3-none-any.whl.metadata (23 kB)\n",
            "Requirement already satisfied: charset-normalizer<4,>=2 in /usr/local/lib/python3.11/dist-packages (from requests<3,>=2->langchain) (3.4.1)\n",
            "Requirement already satisfied: idna<4,>=2.5 in /usr/local/lib/python3.11/dist-packages (from requests<3,>=2->langchain) (3.10)\n",
            "Requirement already satisfied: urllib3<3,>=1.21.1 in /usr/local/lib/python3.11/dist-packages (from requests<3,>=2->langchain) (2.3.0)\n",
            "Requirement already satisfied: certifi>=2017.4.17 in /usr/local/lib/python3.11/dist-packages (from requests<3,>=2->langchain) (2025.1.31)\n",
            "Requirement already satisfied: greenlet!=0.4.17 in /usr/local/lib/python3.11/dist-packages (from SQLAlchemy<3,>=1.4->langchain) (3.1.1)\n",
            "Requirement already satisfied: httpcore==1.* in /usr/local/lib/python3.11/dist-packages (from httpx<1,>=0.23.0->groq<1,>=0.4.1->langchain_groq) (1.0.7)\n",
            "Requirement already satisfied: h11<0.15,>=0.13 in /usr/local/lib/python3.11/dist-packages (from httpcore==1.*->httpx<1,>=0.23.0->groq<1,>=0.4.1->langchain_groq) (0.14.0)\n",
            "Collecting mypy-extensions>=0.3.0 (from typing-inspect<1,>=0.4.0->dataclasses-json<0.7,>=0.5.7->langchain_community)\n",
            "  Downloading mypy_extensions-1.0.0-py3-none-any.whl.metadata (1.1 kB)\n",
            "Downloading langchain_groq-0.2.5-py3-none-any.whl (15 kB)\n",
            "Downloading langchain_community-0.3.19-py3-none-any.whl (2.5 MB)\n",
            "\u001b[2K   \u001b[90m━━━━━━━━━━━━━━━━━━━━━━━━━━━━━━━━━━━━━━━━\u001b[0m \u001b[32m2.5/2.5 MB\u001b[0m \u001b[31m18.1 MB/s\u001b[0m eta \u001b[36m0:00:00\u001b[0m\n",
            "\u001b[?25hDownloading langgraph-0.3.8-py3-none-any.whl (133 kB)\n",
            "\u001b[2K   \u001b[90m━━━━━━━━━━━━━━━━━━━━━━━━━━━━━━━━━━━━━━━━\u001b[0m \u001b[32m133.6/133.6 kB\u001b[0m \u001b[31m5.1 MB/s\u001b[0m eta \u001b[36m0:00:00\u001b[0m\n",
            "\u001b[?25hDownloading dataclasses_json-0.6.7-py3-none-any.whl (28 kB)\n",
            "Downloading groq-0.19.0-py3-none-any.whl (122 kB)\n",
            "\u001b[2K   \u001b[90m━━━━━━━━━━━━━━━━━━━━━━━━━━━━━━━━━━━━━━━━\u001b[0m \u001b[32m122.2/122.2 kB\u001b[0m \u001b[31m5.6 MB/s\u001b[0m eta \u001b[36m0:00:00\u001b[0m\n",
            "\u001b[?25hDownloading httpx_sse-0.4.0-py3-none-any.whl (7.8 kB)\n",
            "Downloading langgraph_checkpoint-2.0.19-py3-none-any.whl (39 kB)\n",
            "Downloading langgraph_prebuilt-0.1.2-py3-none-any.whl (24 kB)\n",
            "Downloading langgraph_sdk-0.1.56-py3-none-any.whl (45 kB)\n",
            "\u001b[2K   \u001b[90m━━━━━━━━━━━━━━━━━━━━━━━━━━━━━━━━━━━━━━━━\u001b[0m \u001b[32m45.8/45.8 kB\u001b[0m \u001b[31m2.2 MB/s\u001b[0m eta \u001b[36m0:00:00\u001b[0m\n",
            "\u001b[?25hDownloading pydantic_settings-2.8.1-py3-none-any.whl (30 kB)\n",
            "Downloading marshmallow-3.26.1-py3-none-any.whl (50 kB)\n",
            "\u001b[2K   \u001b[90m━━━━━━━━━━━━━━━━━━━━━━━━━━━━━━━━━━━━━━━━\u001b[0m \u001b[32m50.9/50.9 kB\u001b[0m \u001b[31m3.3 MB/s\u001b[0m eta \u001b[36m0:00:00\u001b[0m\n",
            "\u001b[?25hDownloading python_dotenv-1.0.1-py3-none-any.whl (19 kB)\n",
            "Downloading typing_inspect-0.9.0-py3-none-any.whl (8.8 kB)\n",
            "Downloading mypy_extensions-1.0.0-py3-none-any.whl (4.7 kB)\n",
            "Installing collected packages: python-dotenv, mypy-extensions, marshmallow, httpx-sse, typing-inspect, pydantic-settings, langgraph-sdk, groq, dataclasses-json, langgraph-checkpoint, langchain_groq, langgraph-prebuilt, langgraph, langchain_community\n",
            "Successfully installed dataclasses-json-0.6.7 groq-0.19.0 httpx-sse-0.4.0 langchain_community-0.3.19 langchain_groq-0.2.5 langgraph-0.3.8 langgraph-checkpoint-2.0.19 langgraph-prebuilt-0.1.2 langgraph-sdk-0.1.56 marshmallow-3.26.1 mypy-extensions-1.0.0 pydantic-settings-2.8.1 python-dotenv-1.0.1 typing-inspect-0.9.0\n"
          ]
        }
      ],
      "source": [
        "!pip install langchain langchain_core langchain_groq langchain_community langchain langgraph\n"
      ]
    },
    {
      "cell_type": "code",
      "source": [
        "import os\n",
        "from typing import TypedDict, Annotated, List\n",
        "from langgraph.graph import StateGraph, END\n",
        "from langchain_core.messages import HumanMessage, AIMessage\n",
        "from langchain_core.prompts import ChatPromptTemplate\n",
        "from langchain_core.runnables.graph import MermaidDrawMethod\n",
        "from IPython.display import display, Image"
      ],
      "metadata": {
        "id": "71X56_aNLLiU"
      },
      "execution_count": 2,
      "outputs": []
    },
    {
      "cell_type": "markdown",
      "source": [
        "Define Agent"
      ],
      "metadata": {
        "id": "xfY5GXPSLP1S"
      }
    },
    {
      "cell_type": "code",
      "source": [
        "class PlannerState(TypedDict):\n",
        "  messages : Annotated[List[HumanMessage | AIMessage], \"the messages in the conversation\"]\n",
        "  city: str\n",
        "  interests: List[str]\n",
        "  itinerary: str"
      ],
      "metadata": {
        "id": "1wtVH4DcLSx9"
      },
      "execution_count": 3,
      "outputs": []
    },
    {
      "cell_type": "code",
      "source": [
        "from langchain_groq import ChatGroq\n",
        "llm = ChatGroq(\n",
        "    temperature = 0,\n",
        "    groq_api_key = \"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\",\n",
        "    model_name = \"llama-3.3-70b-versatile\"\n",
        ")\n"
      ],
      "metadata": {
        "id": "mW2NalR8LXXU"
      },
      "execution_count": 4,
      "outputs": []
    },
    {
      "cell_type": "code",
      "source": [
        "itinerary_prompt = ChatPromptTemplate.from_messages([\n",
        "    (\"system\", \"You are a helpful travel assistant. Create a day trip itinerary for {city} based on the user's interests: {interests}. Provide a brief, bulleted itinerary.\"),\n",
        "    (\"human\", \"Create an itinerary for my day trip.\"),\n",
        "])"
      ],
      "metadata": {
        "id": "wdH88zqqMVyX"
      },
      "execution_count": 5,
      "outputs": []
    },
    {
      "cell_type": "markdown",
      "source": [
        "Define Agent Function"
      ],
      "metadata": {
        "id": "4UrHRqRBMdfd"
      }
    },
    {
      "cell_type": "code",
      "source": [
        "def process_inputs(state: PlannerState) -> PlannerState:\n",
        "    \"\"\"Collects user input for the city, interests, and duration of the trip.\"\"\"\n",
        "    print(\"Please enter the city you want to visit for your trip: \")\n",
        "    city_input = input(\"Your Input: \")\n",
        "\n",
        "    print(f\"Please enter your interests for the trip to {city_input} (comma-separated): \")\n",
        "    interests_input = input(\"Your Input: \")\n",
        "\n",
        "    print(\"How many days will your trip last? (Enter a number): \")\n",
        "    days_input = int(input(\"Your Input: \"))\n",
        "\n",
        "    return {\n",
        "        **state,\n",
        "        \"city\": city_input,\n",
        "        \"interests\": [interest.strip() for interest in interests_input.split(\",\")],\n",
        "        \"days\": days_input,\n",
        "        \"messages\": state[\"messages\"] + [\n",
        "            HumanMessage(content=f\"City: {city_input}\"),\n",
        "            HumanMessage(content=f\"Interests: {interests_input}\"),\n",
        "            HumanMessage(content=f\"Days: {days_input}\"),\n",
        "        ]\n",
        "    }\n",
        "\n",
        "def generate_itinerary(state: PlannerState) -> PlannerState:\n",
        "    \"\"\"Generates an itinerary based on user inputs.\"\"\"\n",
        "    print(f\"Creating an itinerary for {state['city']} based on interests: {', '.join(state['interests'])}\")\n",
        "\n",
        "    response = llm.invoke(itinerary_prompt.format_messages(\n",
        "        city=state[\"city\"],\n",
        "        interests=\", \".join(state[\"interests\"]),\n",
        "        days=state[\"days\"]\n",
        "    ))\n",
        "\n",
        "    print(\"\\n📌 Final Itinerary:\\n\")\n",
        "    print(response.content)\n",
        "\n",
        "    return {\n",
        "        **state,\n",
        "        \"itinerary\": response.content,\n",
        "        \"messages\": state[\"messages\"] + [AIMessage(content=response.content)],\n",
        "    }\n",
        "\n",
        "def fetch_city_image(state: PlannerState) -> PlannerState:\n",
        "    \"\"\"Fetches an image of the city from the Unsplash API.\"\"\"\n",
        "    print(f\"Fetching an image for {state['city']}...\")\n",
        "\n",
        "    url = f\"https://api.unsplash.com/search/photos?query={state['city']}&client_id={UNSPLASH_ACCESS_KEY}\"\n",
        "    response = requests.get(url).json()\n",
        "\n",
        "    image_url = response[\"results\"][0][\"urls\"][\"regular\"] if response[\"results\"] else None\n",
        "    return {**state, \"image_url\": image_url}\n",
        "\n",
        "def generate_maps_link(state: PlannerState) -> PlannerState:\n",
        "    \"\"\"Generates a Google Maps link for the city.\"\"\"\n",
        "    maps_link = f\"https://www.google.com/maps/search/{state['city']}\"\n",
        "    print(f\"Google Maps Link: {maps_link}\")\n",
        "    return {**state, \"maps_link\": maps_link}\n",
        "\n",
        "def format_itinerary(state: PlannerState) -> PlannerState:\n",
        "    \"\"\"Formats the itinerary for better readability.\"\"\"\n",
        "    formatted_itinerary = markdown2.markdown(f\"### 🗺️ Your Travel Itinerary\\n\\n{state['itinerary']}\")\n",
        "    return {**state, \"itinerary\": formatted_itinerary}\n"
      ],
      "metadata": {
        "id": "I8ICxxkTMXlN"
      },
      "execution_count": 26,
      "outputs": []
    },
    {
      "cell_type": "markdown",
      "source": [
        "Create and Compile the Graph"
      ],
      "metadata": {
        "id": "9irThSMEMh2x"
      }
    },
    {
      "cell_type": "code",
      "source": [
        "workflow = StateGraph(PlannerState)\n",
        "\n",
        "# Adding Nodes\n",
        "workflow.add_node(\"process_inputs\", process_inputs)\n",
        "workflow.add_node(\"generate_itinerary\", generate_itinerary)\n",
        "workflow.add_node(\"fetch_city_image\", fetch_city_image)\n",
        "workflow.add_node(\"generate_maps_link\", generate_maps_link)\n",
        "workflow.add_node(\"format_itinerary\", format_itinerary)\n",
        "\n",
        "# Setting Entry Point\n",
        "workflow.set_entry_point(\"process_inputs\")\n",
        "\n",
        "# Defining Edges (Workflow Steps)\n",
        "workflow.add_edge(\"process_inputs\", \"generate_itinerary\")\n",
        "workflow.add_edge(\"generate_itinerary\", \"fetch_city_image\")\n",
        "workflow.add_edge(\"fetch_city_image\", \"generate_maps_link\")\n",
        "workflow.add_edge(\"generate_maps_link\", \"format_itinerary\")\n",
        "workflow.add_edge(\"format_itinerary\", END)\n",
        "\n",
        "# Compile the Workflow\n",
        "app = workflow.compile()\n"
      ],
      "metadata": {
        "id": "n0y7_haeMlcN"
      },
      "execution_count": 27,
      "outputs": []
    },
    {
      "cell_type": "markdown",
      "source": [
        "Display the graph structure"
      ],
      "metadata": {
        "id": "aMw1sEOfMrIT"
      }
    },
    {
      "cell_type": "code",
      "source": [
        "!apt-get install graphviz\n",
        "!pip install graphviz\n"
      ],
      "metadata": {
        "colab": {
          "base_uri": "https://localhost:8080/"
        },
        "id": "Mta3FFS-6hFJ",
        "outputId": "6b01c57e-81da-4c1e-8f66-ff44d6fbce77"
      },
      "execution_count": 31,
      "outputs": [
        {
          "output_type": "stream",
          "name": "stdout",
          "text": [
            "Reading package lists... Done\n",
            "Building dependency tree... Done\n",
            "Reading state information... Done\n",
            "graphviz is already the newest version (2.42.2-6ubuntu0.1).\n",
            "0 upgraded, 0 newly installed, 0 to remove and 29 not upgraded.\n",
            "Requirement already satisfied: graphviz in /usr/local/lib/python3.11/dist-packages (0.20.3)\n"
          ]
        }
      ]
    },
    {
      "cell_type": "code",
      "source": [
        "from graphviz import Digraph\n",
        "\n",
        "def display_workflow_graph():\n",
        "    dot = Digraph(comment=\"AI Travel Planner Workflow\")\n",
        "\n",
        "    # Define Nodes\n",
        "    dot.node(\"A\", \"User Inputs\", shape=\"oval\", style=\"filled\", fillcolor=\"lightblue\")\n",
        "    dot.node(\"B\", \"Process Inputs\", shape=\"box\", style=\"filled\", fillcolor=\"lightgray\")\n",
        "    dot.node(\"C\", \"Generate Itinerary\", shape=\"box\", style=\"filled\", fillcolor=\"lightgray\")\n",
        "    dot.node(\"D\", \"Fetch City Image\", shape=\"box\", style=\"filled\", fillcolor=\"lightgray\")\n",
        "    dot.node(\"E\", \"Format Itinerary\", shape=\"box\", style=\"filled\", fillcolor=\"lightgray\")\n",
        "    dot.node(\"F\", \"Display Final Itinerary\", shape=\"oval\", style=\"filled\", fillcolor=\"lightgreen\")\n",
        "\n",
        "    # Define Edges (Connections)\n",
        "    dot.edge(\"A\", \"B\", label=\"City, Interests, Days\")\n",
        "    dot.edge(\"B\", \"C\")\n",
        "    dot.edge(\"C\", \"D\")\n",
        "    dot.edge(\"D\", \"E\")\n",
        "    dot.edge(\"E\", \"F\")\n",
        "\n",
        "    # Render Graph\n",
        "    return dot\n",
        "\n",
        "# Display the graph\n",
        "display_workflow_graph()\n"
      ],
      "metadata": {
        "colab": {
          "base_uri": "https://localhost:8080/",
          "height": 585
        },
        "id": "3Q57VHTy6mUc",
        "outputId": "6522b773-5aff-4973-c401-1affa5430e61"
      },
      "execution_count": 34,
      "outputs": [
        {
          "output_type": "execute_result",
          "data": {
            "image/svg+xml": "<?xml version=\"1.0\" encoding=\"UTF-8\" standalone=\"no\"?>\n<!DOCTYPE svg PUBLIC \"-//W3C//DTD SVG 1.1//EN\"\n \"http://www.w3.org/Graphics/SVG/1.1/DTD/svg11.dtd\">\n<!-- Generated by graphviz version 2.43.0 (0)\n -->\n<!-- Title: %3 Pages: 1 -->\n<svg width=\"211pt\" height=\"423pt\"\n viewBox=\"0.00 0.00 210.99 423.00\" xmlns=\"http://www.w3.org/2000/svg\" xmlns:xlink=\"http://www.w3.org/1999/xlink\">\n<g id=\"graph0\" class=\"graph\" transform=\"scale(1 1) rotate(0) translate(4 419)\">\n<title>%3</title>\n<polygon fill=\"white\" stroke=\"transparent\" points=\"-4,4 -4,-419 206.99,-419 206.99,4 -4,4\"/>\n<!-- A -->\n<g id=\"node1\" class=\"node\">\n<title>A</title>\n<ellipse fill=\"lightblue\" stroke=\"black\" cx=\"90.99\" cy=\"-397\" rx=\"51.99\" ry=\"18\"/>\n<text text-anchor=\"middle\" x=\"90.99\" y=\"-393.3\" font-family=\"Times,serif\" font-size=\"14.00\">User Inputs</text>\n</g>\n<!-- B -->\n<g id=\"node2\" class=\"node\">\n<title>B</title>\n<polygon fill=\"lightgray\" stroke=\"black\" points=\"138.49,-328 43.49,-328 43.49,-292 138.49,-292 138.49,-328\"/>\n<text text-anchor=\"middle\" x=\"90.99\" y=\"-306.3\" font-family=\"Times,serif\" font-size=\"14.00\">Process Inputs</text>\n</g>\n<!-- A&#45;&gt;B -->\n<g id=\"edge1\" class=\"edge\">\n<title>A&#45;&gt;B</title>\n<path fill=\"none\" stroke=\"black\" d=\"M90.99,-378.8C90.99,-367.16 90.99,-351.55 90.99,-338.24\"/>\n<polygon fill=\"black\" stroke=\"black\" points=\"94.49,-338.18 90.99,-328.18 87.49,-338.18 94.49,-338.18\"/>\n<text text-anchor=\"middle\" x=\"146.99\" y=\"-349.8\" font-family=\"Times,serif\" font-size=\"14.00\">City, Interests, Days</text>\n</g>\n<!-- C -->\n<g id=\"node3\" class=\"node\">\n<title>C</title>\n<polygon fill=\"lightgray\" stroke=\"black\" points=\"148.99,-255 32.99,-255 32.99,-219 148.99,-219 148.99,-255\"/>\n<text text-anchor=\"middle\" x=\"90.99\" y=\"-233.3\" font-family=\"Times,serif\" font-size=\"14.00\">Generate Itinerary</text>\n</g>\n<!-- B&#45;&gt;C -->\n<g id=\"edge2\" class=\"edge\">\n<title>B&#45;&gt;C</title>\n<path fill=\"none\" stroke=\"black\" d=\"M90.99,-291.81C90.99,-283.79 90.99,-274.05 90.99,-265.07\"/>\n<polygon fill=\"black\" stroke=\"black\" points=\"94.49,-265.03 90.99,-255.03 87.49,-265.03 94.49,-265.03\"/>\n</g>\n<!-- D -->\n<g id=\"node4\" class=\"node\">\n<title>D</title>\n<polygon fill=\"lightgray\" stroke=\"black\" points=\"146.99,-182 34.99,-182 34.99,-146 146.99,-146 146.99,-182\"/>\n<text text-anchor=\"middle\" x=\"90.99\" y=\"-160.3\" font-family=\"Times,serif\" font-size=\"14.00\">Fetch City Image</text>\n</g>\n<!-- C&#45;&gt;D -->\n<g id=\"edge3\" class=\"edge\">\n<title>C&#45;&gt;D</title>\n<path fill=\"none\" stroke=\"black\" d=\"M90.99,-218.81C90.99,-210.79 90.99,-201.05 90.99,-192.07\"/>\n<polygon fill=\"black\" stroke=\"black\" points=\"94.49,-192.03 90.99,-182.03 87.49,-192.03 94.49,-192.03\"/>\n</g>\n<!-- E -->\n<g id=\"node5\" class=\"node\">\n<title>E</title>\n<polygon fill=\"lightgray\" stroke=\"black\" points=\"144.49,-109 37.49,-109 37.49,-73 144.49,-73 144.49,-109\"/>\n<text text-anchor=\"middle\" x=\"90.99\" y=\"-87.3\" font-family=\"Times,serif\" font-size=\"14.00\">Format Itinerary</text>\n</g>\n<!-- D&#45;&gt;E -->\n<g id=\"edge4\" class=\"edge\">\n<title>D&#45;&gt;E</title>\n<path fill=\"none\" stroke=\"black\" d=\"M90.99,-145.81C90.99,-137.79 90.99,-128.05 90.99,-119.07\"/>\n<polygon fill=\"black\" stroke=\"black\" points=\"94.49,-119.03 90.99,-109.03 87.49,-119.03 94.49,-119.03\"/>\n</g>\n<!-- F -->\n<g id=\"node6\" class=\"node\">\n<title>F</title>\n<ellipse fill=\"lightgreen\" stroke=\"black\" cx=\"90.99\" cy=\"-18\" rx=\"90.98\" ry=\"18\"/>\n<text text-anchor=\"middle\" x=\"90.99\" y=\"-14.3\" font-family=\"Times,serif\" font-size=\"14.00\">Display Final Itinerary</text>\n</g>\n<!-- E&#45;&gt;F -->\n<g id=\"edge5\" class=\"edge\">\n<title>E&#45;&gt;F</title>\n<path fill=\"none\" stroke=\"black\" d=\"M90.99,-72.81C90.99,-64.79 90.99,-55.05 90.99,-46.07\"/>\n<polygon fill=\"black\" stroke=\"black\" points=\"94.49,-46.03 90.99,-36.03 87.49,-46.03 94.49,-46.03\"/>\n</g>\n</g>\n</svg>\n",
            "text/plain": [
              "<graphviz.graphs.Digraph at 0x7a855d91b290>"
            ]
          },
          "metadata": {},
          "execution_count": 34
        }
      ]
    },
    {
      "cell_type": "markdown",
      "source": [
        "Define the function thats runs the graph"
      ],
      "metadata": {
        "id": "aJpz6A_lMyUZ"
      }
    },
    {
      "cell_type": "code",
      "source": [
        "def travel_planner(user_request: str):\n",
        "  print(f\"Initial Request: {user_request}\\n\")\n",
        "  state = {\n",
        "      \"messages\": [HumanMessage(content=user_request)],\n",
        "      \"city\": \"\",\n",
        "      \"interests\": [],\n",
        "      \"itinerary\": \"\",\n",
        "  }\n",
        "  for output in app.stream(state):\n",
        "    pass"
      ],
      "metadata": {
        "id": "Afxoeak5MzDr"
      },
      "execution_count": 9,
      "outputs": []
    },
    {
      "cell_type": "code",
      "source": [
        "user_request = \"I want to plan a day trip\"\n",
        "travel_planner(user_request)"
      ],
      "metadata": {
        "colab": {
          "base_uri": "https://localhost:8080/"
        },
        "id": "CPqcndUQM5Hj",
        "outputId": "af09fe80-ae45-41dd-bdc7-6e218da652ad"
      },
      "execution_count": 10,
      "outputs": [
        {
          "output_type": "stream",
          "name": "stdout",
          "text": [
            "Initial Request: I want to plan a day trip\n",
            "\n",
            "Please enter the city you want to visit for your day trip: \n",
            "Your Input: kolkata\n",
            "Please enter your interest for the trip to : kolkata (comma-separted): \n",
            "Your Input: newtown\n",
            "Creating an itinerary for kolkata based on interests : newtown\n",
            "\n",
            "Final Itinerary: \n",
            "For a day trip to Newtown, Kolkata, here's a brief itinerary based on popular interests:\n",
            "\n",
            "* 9:00 AM - 10:00 AM: Start the day with breakfast at a local café in Newtown, such as Cafe Coffee Day or The Coffee Bean & Tea Leaf.\n",
            "* 10:00 AM - 12:00 PM: Visit the Mother's Wax Museum, a unique attraction featuring wax statues of famous personalities.\n",
            "* 12:00 PM - 1:30 PM: Head to the Eco Park, a large urban park with a variety of activities, including boating, cycling, and walking trails.\n",
            "* 1:30 PM - 3:00 PM: Take a break for lunch at one of the many restaurants in Newtown, such as Oh! Calcutta or 6 Ballygunge Place.\n",
            "* 3:00 PM - 5:00 PM: Explore the Axis Mall or City Centre II, two popular shopping malls in Newtown with a range of stores and entertainment options.\n",
            "* 5:00 PM - 6:30 PM: End the day with a visit to the Newtown Street Food Market, where you can try a variety of local street food and snacks.\n",
            "\n",
            "This itinerary provides a mix of culture, entertainment, and leisure activities, and can be adjusted based on your specific interests and preferences.\n"
          ]
        }
      ]
    },
    {
      "cell_type": "code",
      "source": [
        "!pip install gradio"
      ],
      "metadata": {
        "colab": {
          "base_uri": "https://localhost:8080/"
        },
        "id": "zeL7C0aZNSZr",
        "outputId": "1cc72d01-bf3b-4b4b-c461-b94e7735c96d"
      },
      "execution_count": 11,
      "outputs": [
        {
          "output_type": "stream",
          "name": "stdout",
          "text": [
            "Collecting gradio\n",
            "  Downloading gradio-5.20.1-py3-none-any.whl.metadata (16 kB)\n",
            "Collecting aiofiles<24.0,>=22.0 (from gradio)\n",
            "  Downloading aiofiles-23.2.1-py3-none-any.whl.metadata (9.7 kB)\n",
            "Requirement already satisfied: anyio<5.0,>=3.0 in /usr/local/lib/python3.11/dist-packages (from gradio) (3.7.1)\n",
            "Collecting fastapi<1.0,>=0.115.2 (from gradio)\n",
            "  Downloading fastapi-0.115.11-py3-none-any.whl.metadata (27 kB)\n",
            "Collecting ffmpy (from gradio)\n",
            "  Downloading ffmpy-0.5.0-py3-none-any.whl.metadata (3.0 kB)\n",
            "Collecting gradio-client==1.7.2 (from gradio)\n",
            "  Downloading gradio_client-1.7.2-py3-none-any.whl.metadata (7.1 kB)\n",
            "Collecting groovy~=0.1 (from gradio)\n",
            "  Downloading groovy-0.1.2-py3-none-any.whl.metadata (6.1 kB)\n",
            "Requirement already satisfied: httpx>=0.24.1 in /usr/local/lib/python3.11/dist-packages (from gradio) (0.28.1)\n",
            "Requirement already satisfied: huggingface-hub>=0.28.1 in /usr/local/lib/python3.11/dist-packages (from gradio) (0.28.1)\n",
            "Requirement already satisfied: jinja2<4.0 in /usr/local/lib/python3.11/dist-packages (from gradio) (3.1.6)\n",
            "Collecting markupsafe~=2.0 (from gradio)\n",
            "  Downloading MarkupSafe-2.1.5-cp311-cp311-manylinux_2_17_x86_64.manylinux2014_x86_64.whl.metadata (3.0 kB)\n",
            "Requirement already satisfied: numpy<3.0,>=1.0 in /usr/local/lib/python3.11/dist-packages (from gradio) (1.26.4)\n",
            "Requirement already satisfied: orjson~=3.0 in /usr/local/lib/python3.11/dist-packages (from gradio) (3.10.15)\n",
            "Requirement already satisfied: packaging in /usr/local/lib/python3.11/dist-packages (from gradio) (24.2)\n",
            "Requirement already satisfied: pandas<3.0,>=1.0 in /usr/local/lib/python3.11/dist-packages (from gradio) (2.2.2)\n",
            "Requirement already satisfied: pillow<12.0,>=8.0 in /usr/local/lib/python3.11/dist-packages (from gradio) (11.1.0)\n",
            "Requirement already satisfied: pydantic>=2.0 in /usr/local/lib/python3.11/dist-packages (from gradio) (2.10.6)\n",
            "Collecting pydub (from gradio)\n",
            "  Downloading pydub-0.25.1-py2.py3-none-any.whl.metadata (1.4 kB)\n",
            "Collecting python-multipart>=0.0.18 (from gradio)\n",
            "  Downloading python_multipart-0.0.20-py3-none-any.whl.metadata (1.8 kB)\n",
            "Requirement already satisfied: pyyaml<7.0,>=5.0 in /usr/local/lib/python3.11/dist-packages (from gradio) (6.0.2)\n",
            "Collecting ruff>=0.9.3 (from gradio)\n",
            "  Downloading ruff-0.9.10-py3-none-manylinux_2_17_x86_64.manylinux2014_x86_64.whl.metadata (25 kB)\n",
            "Collecting safehttpx<0.2.0,>=0.1.6 (from gradio)\n",
            "  Downloading safehttpx-0.1.6-py3-none-any.whl.metadata (4.2 kB)\n",
            "Collecting semantic-version~=2.0 (from gradio)\n",
            "  Downloading semantic_version-2.10.0-py2.py3-none-any.whl.metadata (9.7 kB)\n",
            "Collecting starlette<1.0,>=0.40.0 (from gradio)\n",
            "  Downloading starlette-0.46.1-py3-none-any.whl.metadata (6.2 kB)\n",
            "Collecting tomlkit<0.14.0,>=0.12.0 (from gradio)\n",
            "  Downloading tomlkit-0.13.2-py3-none-any.whl.metadata (2.7 kB)\n",
            "Requirement already satisfied: typer<1.0,>=0.12 in /usr/local/lib/python3.11/dist-packages (from gradio) (0.15.2)\n",
            "Requirement already satisfied: typing-extensions~=4.0 in /usr/local/lib/python3.11/dist-packages (from gradio) (4.12.2)\n",
            "Collecting uvicorn>=0.14.0 (from gradio)\n",
            "  Downloading uvicorn-0.34.0-py3-none-any.whl.metadata (6.5 kB)\n",
            "Requirement already satisfied: fsspec in /usr/local/lib/python3.11/dist-packages (from gradio-client==1.7.2->gradio) (2024.10.0)\n",
            "Requirement already satisfied: websockets<16.0,>=10.0 in /usr/local/lib/python3.11/dist-packages (from gradio-client==1.7.2->gradio) (14.2)\n",
            "Requirement already satisfied: idna>=2.8 in /usr/local/lib/python3.11/dist-packages (from anyio<5.0,>=3.0->gradio) (3.10)\n",
            "Requirement already satisfied: sniffio>=1.1 in /usr/local/lib/python3.11/dist-packages (from anyio<5.0,>=3.0->gradio) (1.3.1)\n",
            "Requirement already satisfied: certifi in /usr/local/lib/python3.11/dist-packages (from httpx>=0.24.1->gradio) (2025.1.31)\n",
            "Requirement already satisfied: httpcore==1.* in /usr/local/lib/python3.11/dist-packages (from httpx>=0.24.1->gradio) (1.0.7)\n",
            "Requirement already satisfied: h11<0.15,>=0.13 in /usr/local/lib/python3.11/dist-packages (from httpcore==1.*->httpx>=0.24.1->gradio) (0.14.0)\n",
            "Requirement already satisfied: filelock in /usr/local/lib/python3.11/dist-packages (from huggingface-hub>=0.28.1->gradio) (3.17.0)\n",
            "Requirement already satisfied: requests in /usr/local/lib/python3.11/dist-packages (from huggingface-hub>=0.28.1->gradio) (2.32.3)\n",
            "Requirement already satisfied: tqdm>=4.42.1 in /usr/local/lib/python3.11/dist-packages (from huggingface-hub>=0.28.1->gradio) (4.67.1)\n",
            "Requirement already satisfied: python-dateutil>=2.8.2 in /usr/local/lib/python3.11/dist-packages (from pandas<3.0,>=1.0->gradio) (2.8.2)\n",
            "Requirement already satisfied: pytz>=2020.1 in /usr/local/lib/python3.11/dist-packages (from pandas<3.0,>=1.0->gradio) (2025.1)\n",
            "Requirement already satisfied: tzdata>=2022.7 in /usr/local/lib/python3.11/dist-packages (from pandas<3.0,>=1.0->gradio) (2025.1)\n",
            "Requirement already satisfied: annotated-types>=0.6.0 in /usr/local/lib/python3.11/dist-packages (from pydantic>=2.0->gradio) (0.7.0)\n",
            "Requirement already satisfied: pydantic-core==2.27.2 in /usr/local/lib/python3.11/dist-packages (from pydantic>=2.0->gradio) (2.27.2)\n",
            "Requirement already satisfied: click>=8.0.0 in /usr/local/lib/python3.11/dist-packages (from typer<1.0,>=0.12->gradio) (8.1.8)\n",
            "Requirement already satisfied: shellingham>=1.3.0 in /usr/local/lib/python3.11/dist-packages (from typer<1.0,>=0.12->gradio) (1.5.4)\n",
            "Requirement already satisfied: rich>=10.11.0 in /usr/local/lib/python3.11/dist-packages (from typer<1.0,>=0.12->gradio) (13.9.4)\n",
            "Requirement already satisfied: six>=1.5 in /usr/local/lib/python3.11/dist-packages (from python-dateutil>=2.8.2->pandas<3.0,>=1.0->gradio) (1.17.0)\n",
            "Requirement already satisfied: markdown-it-py>=2.2.0 in /usr/local/lib/python3.11/dist-packages (from rich>=10.11.0->typer<1.0,>=0.12->gradio) (3.0.0)\n",
            "Requirement already satisfied: pygments<3.0.0,>=2.13.0 in /usr/local/lib/python3.11/dist-packages (from rich>=10.11.0->typer<1.0,>=0.12->gradio) (2.18.0)\n",
            "Requirement already satisfied: charset-normalizer<4,>=2 in /usr/local/lib/python3.11/dist-packages (from requests->huggingface-hub>=0.28.1->gradio) (3.4.1)\n",
            "Requirement already satisfied: urllib3<3,>=1.21.1 in /usr/local/lib/python3.11/dist-packages (from requests->huggingface-hub>=0.28.1->gradio) (2.3.0)\n",
            "Requirement already satisfied: mdurl~=0.1 in /usr/local/lib/python3.11/dist-packages (from markdown-it-py>=2.2.0->rich>=10.11.0->typer<1.0,>=0.12->gradio) (0.1.2)\n",
            "Downloading gradio-5.20.1-py3-none-any.whl (62.3 MB)\n",
            "\u001b[2K   \u001b[90m━━━━━━━━━━━━━━━━━━━━━━━━━━━━━━━━━━━━━━━━\u001b[0m \u001b[32m62.3/62.3 MB\u001b[0m \u001b[31m13.4 MB/s\u001b[0m eta \u001b[36m0:00:00\u001b[0m\n",
            "\u001b[?25hDownloading gradio_client-1.7.2-py3-none-any.whl (322 kB)\n",
            "\u001b[2K   \u001b[90m━━━━━━━━━━━━━━━━━━━━━━━━━━━━━━━━━━━━━━━━\u001b[0m \u001b[32m322.1/322.1 kB\u001b[0m \u001b[31m22.1 MB/s\u001b[0m eta \u001b[36m0:00:00\u001b[0m\n",
            "\u001b[?25hDownloading aiofiles-23.2.1-py3-none-any.whl (15 kB)\n",
            "Downloading fastapi-0.115.11-py3-none-any.whl (94 kB)\n",
            "\u001b[2K   \u001b[90m━━━━━━━━━━━━━━━━━━━━━━━━━━━━━━━━━━━━━━━━\u001b[0m \u001b[32m94.9/94.9 kB\u001b[0m \u001b[31m6.9 MB/s\u001b[0m eta \u001b[36m0:00:00\u001b[0m\n",
            "\u001b[?25hDownloading groovy-0.1.2-py3-none-any.whl (14 kB)\n",
            "Downloading MarkupSafe-2.1.5-cp311-cp311-manylinux_2_17_x86_64.manylinux2014_x86_64.whl (28 kB)\n",
            "Downloading python_multipart-0.0.20-py3-none-any.whl (24 kB)\n",
            "Downloading ruff-0.9.10-py3-none-manylinux_2_17_x86_64.manylinux2014_x86_64.whl (11.3 MB)\n",
            "\u001b[2K   \u001b[90m━━━━━━━━━━━━━━━━━━━━━━━━━━━━━━━━━━━━━━━━\u001b[0m \u001b[32m11.3/11.3 MB\u001b[0m \u001b[31m97.3 MB/s\u001b[0m eta \u001b[36m0:00:00\u001b[0m\n",
            "\u001b[?25hDownloading safehttpx-0.1.6-py3-none-any.whl (8.7 kB)\n",
            "Downloading semantic_version-2.10.0-py2.py3-none-any.whl (15 kB)\n",
            "Downloading starlette-0.46.1-py3-none-any.whl (71 kB)\n",
            "\u001b[2K   \u001b[90m━━━━━━━━━━━━━━━━━━━━━━━━━━━━━━━━━━━━━━━━\u001b[0m \u001b[32m72.0/72.0 kB\u001b[0m \u001b[31m5.3 MB/s\u001b[0m eta \u001b[36m0:00:00\u001b[0m\n",
            "\u001b[?25hDownloading tomlkit-0.13.2-py3-none-any.whl (37 kB)\n",
            "Downloading uvicorn-0.34.0-py3-none-any.whl (62 kB)\n",
            "\u001b[2K   \u001b[90m━━━━━━━━━━━━━━━━━━━━━━━━━━━━━━━━━━━━━━━━\u001b[0m \u001b[32m62.3/62.3 kB\u001b[0m \u001b[31m4.6 MB/s\u001b[0m eta \u001b[36m0:00:00\u001b[0m\n",
            "\u001b[?25hDownloading ffmpy-0.5.0-py3-none-any.whl (6.0 kB)\n",
            "Downloading pydub-0.25.1-py2.py3-none-any.whl (32 kB)\n",
            "Installing collected packages: pydub, uvicorn, tomlkit, semantic-version, ruff, python-multipart, markupsafe, groovy, ffmpy, aiofiles, starlette, safehttpx, gradio-client, fastapi, gradio\n",
            "  Attempting uninstall: markupsafe\n",
            "    Found existing installation: MarkupSafe 3.0.2\n",
            "    Uninstalling MarkupSafe-3.0.2:\n",
            "      Successfully uninstalled MarkupSafe-3.0.2\n",
            "\u001b[31mERROR: pip's dependency resolver does not currently take into account all the packages that are installed. This behaviour is the source of the following dependency conflicts.\n",
            "torch 2.5.1+cu124 requires nvidia-cublas-cu12==12.4.5.8; platform_system == \"Linux\" and platform_machine == \"x86_64\", but you have nvidia-cublas-cu12 12.5.3.2 which is incompatible.\n",
            "torch 2.5.1+cu124 requires nvidia-cuda-cupti-cu12==12.4.127; platform_system == \"Linux\" and platform_machine == \"x86_64\", but you have nvidia-cuda-cupti-cu12 12.5.82 which is incompatible.\n",
            "torch 2.5.1+cu124 requires nvidia-cuda-nvrtc-cu12==12.4.127; platform_system == \"Linux\" and platform_machine == \"x86_64\", but you have nvidia-cuda-nvrtc-cu12 12.5.82 which is incompatible.\n",
            "torch 2.5.1+cu124 requires nvidia-cuda-runtime-cu12==12.4.127; platform_system == \"Linux\" and platform_machine == \"x86_64\", but you have nvidia-cuda-runtime-cu12 12.5.82 which is incompatible.\n",
            "torch 2.5.1+cu124 requires nvidia-cudnn-cu12==9.1.0.70; platform_system == \"Linux\" and platform_machine == \"x86_64\", but you have nvidia-cudnn-cu12 9.3.0.75 which is incompatible.\n",
            "torch 2.5.1+cu124 requires nvidia-cufft-cu12==11.2.1.3; platform_system == \"Linux\" and platform_machine == \"x86_64\", but you have nvidia-cufft-cu12 11.2.3.61 which is incompatible.\n",
            "torch 2.5.1+cu124 requires nvidia-curand-cu12==10.3.5.147; platform_system == \"Linux\" and platform_machine == \"x86_64\", but you have nvidia-curand-cu12 10.3.6.82 which is incompatible.\n",
            "torch 2.5.1+cu124 requires nvidia-cusolver-cu12==11.6.1.9; platform_system == \"Linux\" and platform_machine == \"x86_64\", but you have nvidia-cusolver-cu12 11.6.3.83 which is incompatible.\n",
            "torch 2.5.1+cu124 requires nvidia-cusparse-cu12==12.3.1.170; platform_system == \"Linux\" and platform_machine == \"x86_64\", but you have nvidia-cusparse-cu12 12.5.1.3 which is incompatible.\n",
            "torch 2.5.1+cu124 requires nvidia-nvjitlink-cu12==12.4.127; platform_system == \"Linux\" and platform_machine == \"x86_64\", but you have nvidia-nvjitlink-cu12 12.5.82 which is incompatible.\u001b[0m\u001b[31m\n",
            "\u001b[0mSuccessfully installed aiofiles-23.2.1 fastapi-0.115.11 ffmpy-0.5.0 gradio-5.20.1 gradio-client-1.7.2 groovy-0.1.2 markupsafe-2.1.5 pydub-0.25.1 python-multipart-0.0.20 ruff-0.9.10 safehttpx-0.1.6 semantic-version-2.10.0 starlette-0.46.1 tomlkit-0.13.2 uvicorn-0.34.0\n"
          ]
        }
      ]
    },
    {
      "cell_type": "code",
      "source": [
        "!pip install markdown2"
      ],
      "metadata": {
        "colab": {
          "base_uri": "https://localhost:8080/"
        },
        "id": "HnVHF2d-k0UW",
        "outputId": "a70c7b03-2831-49a0-b1fa-f4c2caea1f1a"
      },
      "execution_count": 14,
      "outputs": [
        {
          "output_type": "stream",
          "name": "stdout",
          "text": [
            "Collecting markdown2\n",
            "  Downloading markdown2-2.5.3-py3-none-any.whl.metadata (2.1 kB)\n",
            "Downloading markdown2-2.5.3-py3-none-any.whl (48 kB)\n",
            "\u001b[2K   \u001b[90m━━━━━━━━━━━━━━━━━━━━━━━━━━━━━━━━━━━━━━━━\u001b[0m \u001b[32m48.5/48.5 kB\u001b[0m \u001b[31m1.5 MB/s\u001b[0m eta \u001b[36m0:00:00\u001b[0m\n",
            "\u001b[?25hInstalling collected packages: markdown2\n",
            "Successfully installed markdown2-2.5.3\n"
          ]
        }
      ]
    },
    {
      "cell_type": "code",
      "source": [
        "import gradio as gr\n",
        "import requests\n",
        "import json\n",
        "from typing import TypedDict, Annotated, List\n",
        "from langgraph.graph import StateGraph, END\n",
        "from langchain_core.messages import HumanMessage, AIMessage\n",
        "from langchain_core.prompts import ChatPromptTemplate\n",
        "from langchain_groq import ChatGroq\n",
        "import markdown2\n",
        "\n",
        "# API Key for City Images (Replace with your Unsplash key)\n",
        "UNSPLASH_ACCESS_KEY = \"\"\n",
        "\n",
        "class PlannerState(TypedDict):\n",
        "    messages: Annotated[List[HumanMessage | AIMessage], \"Conversation history\"]\n",
        "    city: str\n",
        "    interests: List[str]\n",
        "    days: int\n",
        "    itinerary: str\n",
        "\n",
        "# Define LLM\n",
        "llm = ChatGroq(\n",
        "    temperature=0,\n",
        "    groq_api_key=\"\",\n",
        "    model_name=\"llama-3.3-70b-versatile\"\n",
        ")\n",
        "\n",
        "# Improved Itinerary Prompt\n",
        "itinerary_prompt = ChatPromptTemplate.from_messages([\n",
        "    (\"system\", \"You are a smart travel planner. Create a {days}-day itinerary for {city} based on {interests}. \"\n",
        "               \"Consider weather, budget, and must-see places. Use short bullet points.\"),\n",
        "    (\"human\", \"Generate my itinerary.\"),\n",
        "])\n",
        "\n",
        "# Fetch city image from Unsplash\n",
        "def get_city_image(city):\n",
        "    url = f\"https://api.unsplash.com/search/photos?query={city}&client_id={UNSPLASH_ACCESS_KEY}\"\n",
        "    response = requests.get(url).json()\n",
        "    if response[\"results\"]:\n",
        "        return response[\"results\"][0][\"urls\"][\"regular\"]\n",
        "    return None\n",
        "\n",
        "# Process user inputs\n",
        "def input_city(city: str, state: PlannerState) -> PlannerState:\n",
        "    return {**state, \"city\": city, \"messages\": state['messages'] + [HumanMessage(content=city)]}\n",
        "\n",
        "def input_interests(interests: List[str], state: PlannerState) -> PlannerState:\n",
        "    return {**state, \"interests\": interests, \"messages\": state['messages'] + [HumanMessage(content=\", \".join(interests))]}\n",
        "\n",
        "def input_days(days: int, state: PlannerState) -> PlannerState:\n",
        "    return {**state, \"days\": days}\n",
        "\n",
        "# Generate the itinerary\n",
        "def create_itinerary(state: PlannerState) -> str:\n",
        "    response = llm.invoke(itinerary_prompt.format_messages(city=state['city'], interests=\", \".join(state['interests']), days=state['days']))\n",
        "    state[\"itinerary\"] = response.content\n",
        "    state[\"messages\"] += [AIMessage(content=response.content)]\n",
        "    return response.content\n",
        "\n",
        "# Convert itinerary to Markdown for better formatting\n",
        "def format_itinerary(itinerary: str) -> str:\n",
        "    return markdown2.markdown(f\"### Your Travel Itinerary 🗺️\\n{itinerary}\")\n",
        "\n",
        "# Generate Google Maps search link\n",
        "def generate_maps_link(city):\n",
        "    return f\"[📍 Explore {city} on Google Maps](https://www.google.com/maps/search/{city})\"\n",
        "\n",
        "# Main function\n",
        "def travel_planner(city: str, interests: List[str], days: int):\n",
        "    state = {\n",
        "        \"messages\": [],\n",
        "        \"city\": \"\",\n",
        "        \"interests\": [],\n",
        "        \"days\": 1,\n",
        "        \"itinerary\": \"\",\n",
        "    }\n",
        "\n",
        "    # Process inputs\n",
        "    state = input_city(city, state)\n",
        "    state = input_interests(interests, state)\n",
        "    state = input_days(days, state)\n",
        "\n",
        "    # Generate itinerary\n",
        "    itinerary = create_itinerary(state)\n",
        "    formatted_itinerary = format_itinerary(itinerary)\n",
        "\n",
        "    # Fetch city image\n",
        "    city_image = get_city_image(city)\n",
        "\n",
        "    # Google Maps link\n",
        "    maps_link = generate_maps_link(city)\n",
        "\n",
        "    return formatted_itinerary, city_image, maps_link\n",
        "\n",
        "# Gradio Interface with Improved UI\n",
        "interface = gr.Interface(\n",
        "    fn=travel_planner,\n",
        "    inputs=[\n",
        "        gr.Textbox(label=\"Enter City\"),\n",
        "        gr.CheckboxGroup([\"Museums\", \"Beaches\", \"Food\", \"Music\", \"Hiking\",\"Clubs\",\"Hotels\"], label=\"Select Your Interests\"),\n",
        "        gr.Slider(minimum=1, maximum=7, step=1, label=\"Trip Duration (Days)\"),\n",
        "    ],\n",
        "    outputs=[\n",
        "        gr.Markdown(label=\"Generated Itinerary\"),\n",
        "        gr.Image(label=\"City Image\"),\n",
        "        gr.Markdown(label=\"Google Maps Link\"),\n",
        "    ],\n",
        "    title=\"🌍 AI Travel Maestro\",\n",
        "    description=\"Discover your ideal adventure with AI-crafted, personalized travel plans tailored just for you!\",\n",
        "    theme=\"soft\",\n",
        "    css=\"\"\"\n",
        "        body { background-color: #FFFFFF; color: #333333; }\n",
        "        .gradio-container {\n",
        "            background-color: #F9F9F9;\n",
        "            border-radius: 10px;\n",
        "            padding: 20px;\n",
        "            box-shadow: 0px 4px 10px rgba(0, 0, 0, 0.1);\n",
        "        }\n",
        "        input, select, textarea {\n",
        "            border: 2px solid #6C63FF;\n",
        "            background-color: #FFFFFF;\n",
        "            color: #333333;\n",
        "            border-radius: 8px;\n",
        "            padding: 10px;\n",
        "            font-size: 14px;\n",
        "        }\n",
        "        .output {\n",
        "            border: 2px solid #FF6584;\n",
        "            background-color: #FFFFFF;\n",
        "            color: #333333;\n",
        "            border-radius: 8px;\n",
        "            padding: 10px;\n",
        "        }\n",
        "        h1, h2, h3, p { color: #6C63FF; }\n",
        "        button {\n",
        "            background-color: #6C63FF;\n",
        "            color: white;\n",
        "            border-radius: 8px;\n",
        "            padding: 10px 15px;\n",
        "            font-size: 16px;\n",
        "            border: none;\n",
        "            transition: 0.3s;\n",
        "        }\n",
        "        button:hover { background-color: #4B49AC; }\n",
        "    \"\"\"\n",
        ")\n",
        "\n",
        "interface.launch()\n"
      ],
      "metadata": {
        "colab": {
          "base_uri": "https://localhost:8080/",
          "height": 648
        },
        "id": "6ww1ozb1kUVr",
        "outputId": "ead6f4a5-a101-4fa2-8f0a-f6ba322a25ee"
      },
      "execution_count": 33,
      "outputs": [
        {
          "output_type": "stream",
          "name": "stdout",
          "text": [
            "Running Gradio in a Colab notebook requires sharing enabled. Automatically setting `share=True` (you can turn this off by setting `share=False` in `launch()` explicitly).\n",
            "\n",
            "Colab notebook detected. To show errors in colab notebook, set debug=True in launch()\n",
            "* Running on public URL: https://7b27497453709dd748.gradio.live\n",
            "\n",
            "This share link expires in 72 hours. For free permanent hosting and GPU upgrades, run `gradio deploy` from the terminal in the working directory to deploy to Hugging Face Spaces (https://huggingface.co/spaces)\n"
          ]
        },
        {
          "output_type": "display_data",
          "data": {
            "text/plain": [
              "<IPython.core.display.HTML object>"
            ],
            "text/html": [
              "<div><iframe src=\"https://7b27497453709dd748.gradio.live\" width=\"100%\" height=\"500\" allow=\"autoplay; camera; microphone; clipboard-read; clipboard-write;\" frameborder=\"0\" allowfullscreen></iframe></div>"
            ]
          },
          "metadata": {}
        },
        {
          "output_type": "execute_result",
          "data": {
            "text/plain": []
          },
          "metadata": {},
          "execution_count": 33
        }
      ]
    }
  ]
}
